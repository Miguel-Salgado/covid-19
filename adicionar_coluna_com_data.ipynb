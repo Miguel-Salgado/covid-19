{
 "cells": [
  {
   "cell_type": "code",
   "execution_count": 1,
   "metadata": {},
   "outputs": [],
   "source": [
    "import pandas as pd\n"
   ]
  },
  {
   "cell_type": "code",
   "execution_count": 2,
   "metadata": {},
   "outputs": [],
   "source": [
    "# faz a leitura do ficheiro de dados localizado no github\n",
    "\n",
    "url = 'https://raw.githubusercontent.com/Miguel-Salgado/covid-19/master/obitos-e-casos-confirmados-de-cov.csv'\n",
    "df = pd.read_csv(url,error_bad_lines=False)\n"
   ]
  },
  {
   "cell_type": "code",
   "execution_count": 4,
   "metadata": {},
   "outputs": [
    {
     "name": "stdout",
     "output_type": "stream",
     "text": [
      "     Dia_do_Ano  Dia  Confirmados  Obitos\n",
      "0            60    1            0       0\n",
      "1            61    2            2       0\n",
      "2            62    3            4       0\n",
      "3            63    4            6       0\n",
      "4            64    5            9       0\n",
      "..          ...  ...          ...     ...\n",
      "151         211  152        51569    1738\n",
      "152         212  153        51681    1739\n",
      "153         213  154        51848    1740\n",
      "154         214  155        52061    1743\n",
      "155         215  156        52351    1746\n",
      "\n",
      "[156 rows x 4 columns]\n"
     ]
    }
   ],
   "source": [
    "print(df)"
   ]
  },
  {
   "cell_type": "code",
   "execution_count": 5,
   "metadata": {},
   "outputs": [],
   "source": [
    "df['Data'] = pd.date_range(start='29/2/2020', periods=len(df), freq='D')\n"
   ]
  },
  {
   "cell_type": "code",
   "execution_count": 6,
   "metadata": {},
   "outputs": [
    {
     "name": "stdout",
     "output_type": "stream",
     "text": [
      "     Dia_do_Ano  Dia  Confirmados  Obitos       Data\n",
      "0            60    1            0       0 2020-02-29\n",
      "1            61    2            2       0 2020-03-01\n",
      "2            62    3            4       0 2020-03-02\n",
      "3            63    4            6       0 2020-03-03\n",
      "4            64    5            9       0 2020-03-04\n",
      "..          ...  ...          ...     ...        ...\n",
      "151         211  152        51569    1738 2020-07-29\n",
      "152         212  153        51681    1739 2020-07-30\n",
      "153         213  154        51848    1740 2020-07-31\n",
      "154         214  155        52061    1743 2020-08-01\n",
      "155         215  156        52351    1746 2020-08-02\n",
      "\n",
      "[156 rows x 5 columns]\n"
     ]
    }
   ],
   "source": [
    "print(df)"
   ]
  },
  {
   "cell_type": "code",
   "execution_count": 8,
   "metadata": {},
   "outputs": [],
   "source": [
    "df.to_csv(\"obitos-e-casos-confirmados-de-cov-data.csv\", index = False)\n",
    "\n"
   ]
  },
  {
   "cell_type": "code",
   "execution_count": null,
   "metadata": {},
   "outputs": [],
   "source": []
  }
 ],
 "metadata": {
  "kernelspec": {
   "display_name": "Python 3",
   "language": "python",
   "name": "python3"
  },
  "language_info": {
   "codemirror_mode": {
    "name": "ipython",
    "version": 3
   },
   "file_extension": ".py",
   "mimetype": "text/x-python",
   "name": "python",
   "nbconvert_exporter": "python",
   "pygments_lexer": "ipython3",
   "version": "3.7.7"
  }
 },
 "nbformat": 4,
 "nbformat_minor": 4
}
