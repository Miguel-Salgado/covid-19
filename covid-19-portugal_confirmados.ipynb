{
 "cells": [
  {
   "cell_type": "code",
   "execution_count": 8,
   "metadata": {},
   "outputs": [],
   "source": [
    "import pandas as pd\n",
    "import numpy as np\n",
    "import datetime\n",
    "from datetime import datetime,timedelta\n",
    "from sklearn.metrics import mean_squared_error\n",
    "from scipy.optimize import curve_fit\n",
    "from scipy.optimize import fsolve\n",
    "from scipy.special import erf\n",
    "import matplotlib.pyplot as plt\n",
    "%matplotlib inline"
   ]
  },
  {
   "cell_type": "code",
   "execution_count": 9,
   "metadata": {},
   "outputs": [],
   "source": [
    "# faz a leitura do ficheiro de dados localizado no github\n",
    "\n",
    "url = 'https://raw.githubusercontent.com/Miguel-Salgado/covid-19/master/obitos-e-casos-confirmados-de-cov-data.csv'\n",
    "df = pd.read_csv(url,error_bad_lines=False)\n"
   ]
  },
  {
   "cell_type": "code",
   "execution_count": 10,
   "metadata": {},
   "outputs": [],
   "source": [
    "# define as funções utilizadas nos modelos\n",
    "\n",
    "def logistic_model(x,a,b,c):\n",
    "    return c/(np.exp((b-x)/a)+1)\n",
    "\n",
    "def exponential_model(x,a,b,c):\n",
    "    return a*np.exp(b*(x-c))\n",
    "\n",
    "def log_logistic_model(x,a,b,c):\n",
    "    return c/(1+np.power((x/a),(-1*b)))\n",
    "\n",
    "def error_function_model(x,a,b,c,d):\n",
    "    return a*(1+erf((x-b)/c))-d\n",
    "\n",
    "\n",
    "\n",
    "\n"
   ]
  },
  {
   "cell_type": "code",
   "execution_count": 11,
   "metadata": {},
   "outputs": [
    {
     "name": "stdout",
     "output_type": "stream",
     "text": [
      "Logistic model: a =  36.33; b =  89.21; c =  63323.10\n",
      "Log-Logistic model: a =  1.07; b =  200.02; c =  34964.30\n"
     ]
    },
    {
     "ename": "RuntimeError",
     "evalue": "Optimal parameters not found: Number of calls to function has reached maxfev = 1000.",
     "output_type": "error",
     "traceback": [
      "\u001b[1;31m---------------------------------------------------------------------------\u001b[0m",
      "\u001b[1;31mRuntimeError\u001b[0m                              Traceback (most recent call last)",
      "\u001b[1;32m<ipython-input-11-c314f6b54bb9>\u001b[0m in \u001b[0;36m<module>\u001b[1;34m\u001b[0m\n\u001b[0;32m     21\u001b[0m \u001b[0mprint\u001b[0m\u001b[1;33m(\u001b[0m\u001b[1;34m\"Log-Logistic model: a = % 5.2f; b = % 5.2f; c = % 5.2f\"\u001b[0m \u001b[1;33m%\u001b[0m\u001b[1;33m(\u001b[0m\u001b[0mparam_a_log_logistic\u001b[0m\u001b[1;33m,\u001b[0m \u001b[0mparam_b_log_logistic\u001b[0m\u001b[1;33m,\u001b[0m \u001b[0mparam_c_log_logistic\u001b[0m\u001b[1;33m)\u001b[0m\u001b[1;33m)\u001b[0m\u001b[1;33m\u001b[0m\u001b[1;33m\u001b[0m\u001b[0m\n\u001b[0;32m     22\u001b[0m \u001b[1;33m\u001b[0m\u001b[0m\n\u001b[1;32m---> 23\u001b[1;33m \u001b[0merf_fit\u001b[0m \u001b[1;33m=\u001b[0m \u001b[0mcurve_fit\u001b[0m\u001b[1;33m(\u001b[0m\u001b[0merror_function_model\u001b[0m\u001b[1;33m,\u001b[0m\u001b[0mx\u001b[0m\u001b[1;33m,\u001b[0m\u001b[0my\u001b[0m\u001b[1;33m,\u001b[0m\u001b[0mp0\u001b[0m\u001b[1;33m=\u001b[0m\u001b[1;33m[\u001b[0m\u001b[1;36m10000\u001b[0m\u001b[1;33m,\u001b[0m\u001b[1;36m100\u001b[0m\u001b[1;33m,\u001b[0m\u001b[1;36m100\u001b[0m\u001b[1;33m,\u001b[0m\u001b[1;36m1000\u001b[0m\u001b[1;33m]\u001b[0m\u001b[1;33m)\u001b[0m\u001b[1;33m\u001b[0m\u001b[1;33m\u001b[0m\u001b[0m\n\u001b[0m\u001b[0;32m     24\u001b[0m \u001b[1;33m\u001b[0m\u001b[0m\n\u001b[0;32m     25\u001b[0m \u001b[0mparam_a_erf\u001b[0m \u001b[1;33m=\u001b[0m \u001b[0merf_fit\u001b[0m\u001b[1;33m[\u001b[0m\u001b[1;36m0\u001b[0m\u001b[1;33m]\u001b[0m\u001b[1;33m[\u001b[0m\u001b[1;36m0\u001b[0m\u001b[1;33m]\u001b[0m\u001b[1;33m\u001b[0m\u001b[1;33m\u001b[0m\u001b[0m\n",
      "\u001b[1;32m~\\Anaconda3\\lib\\site-packages\\scipy\\optimize\\minpack.py\u001b[0m in \u001b[0;36mcurve_fit\u001b[1;34m(f, xdata, ydata, p0, sigma, absolute_sigma, check_finite, bounds, method, jac, **kwargs)\u001b[0m\n\u001b[0;32m    753\u001b[0m         \u001b[0mcost\u001b[0m \u001b[1;33m=\u001b[0m \u001b[0mnp\u001b[0m\u001b[1;33m.\u001b[0m\u001b[0msum\u001b[0m\u001b[1;33m(\u001b[0m\u001b[0minfodict\u001b[0m\u001b[1;33m[\u001b[0m\u001b[1;34m'fvec'\u001b[0m\u001b[1;33m]\u001b[0m \u001b[1;33m**\u001b[0m \u001b[1;36m2\u001b[0m\u001b[1;33m)\u001b[0m\u001b[1;33m\u001b[0m\u001b[1;33m\u001b[0m\u001b[0m\n\u001b[0;32m    754\u001b[0m         \u001b[1;32mif\u001b[0m \u001b[0mier\u001b[0m \u001b[1;32mnot\u001b[0m \u001b[1;32min\u001b[0m \u001b[1;33m[\u001b[0m\u001b[1;36m1\u001b[0m\u001b[1;33m,\u001b[0m \u001b[1;36m2\u001b[0m\u001b[1;33m,\u001b[0m \u001b[1;36m3\u001b[0m\u001b[1;33m,\u001b[0m \u001b[1;36m4\u001b[0m\u001b[1;33m]\u001b[0m\u001b[1;33m:\u001b[0m\u001b[1;33m\u001b[0m\u001b[1;33m\u001b[0m\u001b[0m\n\u001b[1;32m--> 755\u001b[1;33m             \u001b[1;32mraise\u001b[0m \u001b[0mRuntimeError\u001b[0m\u001b[1;33m(\u001b[0m\u001b[1;34m\"Optimal parameters not found: \"\u001b[0m \u001b[1;33m+\u001b[0m \u001b[0merrmsg\u001b[0m\u001b[1;33m)\u001b[0m\u001b[1;33m\u001b[0m\u001b[1;33m\u001b[0m\u001b[0m\n\u001b[0m\u001b[0;32m    756\u001b[0m     \u001b[1;32melse\u001b[0m\u001b[1;33m:\u001b[0m\u001b[1;33m\u001b[0m\u001b[1;33m\u001b[0m\u001b[0m\n\u001b[0;32m    757\u001b[0m         \u001b[1;31m# Rename maxfev (leastsq) to max_nfev (least_squares), if specified.\u001b[0m\u001b[1;33m\u001b[0m\u001b[1;33m\u001b[0m\u001b[1;33m\u001b[0m\u001b[0m\n",
      "\u001b[1;31mRuntimeError\u001b[0m: Optimal parameters not found: Number of calls to function has reached maxfev = 1000."
     ]
    }
   ],
   "source": [
    "x = list(df.iloc[:,1])\n",
    "y = list(df.iloc[:,2])\n",
    "\n",
    "# utiliza curve_fit para fazer o ajuste dos dados, calculando os parâmetros a,b,c\n",
    "\n",
    "logistic_fit = curve_fit(logistic_model,x,y,p0=[6,37,24000])\n",
    "\n",
    "param_a_logistic = logistic_fit[0][0]\n",
    "param_b_logistic = logistic_fit[0][1]\n",
    "param_c_logistic = logistic_fit[0][2]\n",
    " \n",
    "print(\"Logistic model: a = % 5.2f; b = % 5.2f; c = % 5.2f\" %(param_a_logistic, param_b_logistic, param_c_logistic))    \n",
    "\n",
    "log_logistic_fit = curve_fit(log_logistic_model,x,y,p0=[1,200,10000],bounds=(0, [9999999., 9999999., 9999999.]))\n",
    "\n",
    "param_a_log_logistic = log_logistic_fit[0][0]\n",
    "param_b_log_logistic = log_logistic_fit[0][1]\n",
    "param_c_log_logistic = log_logistic_fit[0][2]\n",
    "\n",
    "\n",
    "print(\"Log-Logistic model: a = % 5.2f; b = % 5.2f; c = % 5.2f\" %(param_a_log_logistic, param_b_log_logistic, param_c_log_logistic))\n",
    "\n",
    "erf_fit = curve_fit(error_function_model,x,y,p0=[10000,100,100,1000])\n",
    "\n",
    "param_a_erf = erf_fit[0][0]\n",
    "param_b_erf = erf_fit[0][1]\n",
    "param_c_erf = erf_fit[0][2]\n",
    "param_d_erf = erf_fit[0][3]\n",
    "\n",
    "print(\"Error function model: a = % 5.2f; b = % 5.2f; c = % 5.2f; d = % 5.2f\" %(param_a_erf, param_b_erf, param_c_erf, param_d_erf))\n",
    "\n"
   ]
  },
  {
   "cell_type": "code",
   "execution_count": 12,
   "metadata": {},
   "outputs": [],
   "source": [
    "# calcula o erro associado ao ajuste efetuado \n",
    "\n",
    "errors_logistic = [np.sqrt(logistic_fit[1][i][i]) for i in [0,1,2]]\n",
    "\n",
    "y_pred_logistic = [logistic_model(i,param_a_logistic,param_b_logistic,param_c_logistic) for i in x]\n",
    "\n",
    "errors_log_logistic = [np.sqrt(log_logistic_fit[1][i][i]) for i in [0,1,2]]\n",
    "\n",
    "y_pred_log_logistic = [log_logistic_model(i,param_a_log_logistic,param_b_log_logistic,param_c_log_logistic) for i in x]\n",
    "\n",
    "#print(x,y_pred_log_logistic)\n",
    "\n",
    "#errors_erf = [np.sqrt(erf_fit[1][i][i]) for i in [0,1,2,3]]\n",
    "\n",
    "#y_pred_erf = [error_function_model(i,param_a_erf,param_b_erf,param_c_erf,param_d_erf) for i in x]\n"
   ]
  },
  {
   "cell_type": "code",
   "execution_count": 13,
   "metadata": {},
   "outputs": [],
   "source": [
    "# calcula a data final da infeção resolvendo a equação associada ao modelo\n",
    "\n",
    "sol_logistic = int(fsolve(lambda x : logistic_model(x,param_a_logistic,param_b_logistic,param_c_logistic) - int(param_c_logistic),param_b_logistic))\n",
    "end_date_logistic = datetime(2020, 1, 1) + timedelta(days=sol_logistic)\n",
    "\n",
    "                              "
   ]
  },
  {
   "cell_type": "code",
   "execution_count": 15,
   "metadata": {},
   "outputs": [
    {
     "data": {
      "image/png": "[encoded data removed]",
      "text/plain": [
       "<Figure size 504x504 with 1 Axes>"
      ]
     },
     "metadata": {
      "needs_background": "light"
     },
     "output_type": "display_data"
    },
    {
     "name": "stdout",
     "output_type": "stream",
     "text": [
      "Erro quadrado médio do ajuste: 12614057 (modelo logístico)\n"
     ]
    }
   ],
   "source": [
    "# constrói o gráfico e mostra os resultados das predições\n",
    "\n",
    "pred_x = list(range(max(x),sol_logistic))\n",
    "\n",
    "plt.rcParams['figure.figsize'] = [7, 7]\n",
    "plt.rc('font', size=14)\n",
    "\n",
    "# Real data\n",
    "plt.scatter(x,y,label=\"Confirmados\",color=\"red\")\n",
    "\n",
    "# Predicted logistic curve\n",
    "plt.plot(x+pred_x, [logistic_model(i,param_a_logistic,param_b_logistic,param_c_logistic) for i in x+pred_x], label=\"Logística\" )\n",
    "\n",
    "# Predicted log-logistic curve\n",
    "# plt.plot(x+pred_x, [log_logistic_model(i,param_a_log_logistic,param_b_log_logistic,param_c_log_logistic) for i in x+pred_x], label=\"Log-Logística\" )\n",
    "\n",
    "# Predicted error function curve\n",
    "# plt.plot(x+pred_x, [error_function_model(i,param_a_erf,param_b_erf,param_c_erf,param_d_erf) for i in x+pred_x], label=\"Função erro\" )\n",
    "\n",
    "plt.legend()\n",
    "plt.xlabel(\"Dias desde 1 Março 2020\")\n",
    "plt.ylabel(\"Total de casos confirmados\")\n",
    "plt.ylim((min(y)*0.9,param_c_logistic*1.3))\n",
    "plt.show()\n",
    "\n",
    "\n",
    "print(\"Erro quadrado médio do ajuste: %1d (modelo logístico)\" %mean_squared_error(y,y_pred_logistic))\n",
    "#print(\"Erro quadrado médio do ajuste: %1d (modelo log-logístico)\" %mean_squared_error(y,y_pred_log_logistic))\n",
    "#print(\"Erro quadrado médio do ajuste: %1d (modelo função erro)\" %mean_squared_error(y,y_pred_erf))\n"
   ]
  },
  {
   "cell_type": "code",
   "execution_count": null,
   "metadata": {},
   "outputs": [],
   "source": []
  }
 ],
 "metadata": {
  "kernelspec": {
   "display_name": "Python 3",
   "language": "python",
   "name": "python3"
  },
  "language_info": {
   "codemirror_mode": {
    "name": "ipython",
    "version": 3
   },
   "file_extension": ".py",
   "mimetype": "text/x-python",
   "name": "python",
   "nbconvert_exporter": "python",
   "pygments_lexer": "ipython3",
   "version": "3.7.7"
  }
 },
 "nbformat": 4,
 "nbformat_minor": 2
}
