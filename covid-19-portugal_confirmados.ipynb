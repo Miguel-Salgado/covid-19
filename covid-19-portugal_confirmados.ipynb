{
 "cells": [
  {
   "cell_type": "code",
   "execution_count": 1,
   "metadata": {},
   "outputs": [],
   "source": [
    "import pandas as pd\n",
    "import numpy as np\n",
    "import datetime\n",
    "from datetime import datetime,timedelta\n",
    "from sklearn.metrics import mean_squared_error\n",
    "from scipy.optimize import curve_fit\n",
    "from scipy.optimize import fsolve\n",
    "from scipy.special import erf\n",
    "import matplotlib.pyplot as plt\n",
    "%matplotlib inline"
   ]
  },
  {
   "cell_type": "code",
   "execution_count": 8,
   "metadata": {},
   "outputs": [
    {
     "data": {
      "text/html": [
       "<div>\n",
       "<style scoped>\n",
       "    .dataframe tbody tr th:only-of-type {\n",
       "        vertical-align: middle;\n",
       "    }\n",
       "\n",
       "    .dataframe tbody tr th {\n",
       "        vertical-align: top;\n",
       "    }\n",
       "\n",
       "    .dataframe thead th {\n",
       "        text-align: right;\n",
       "    }\n",
       "</style>\n",
       "<table border=\"1\" class=\"dataframe\">\n",
       "  <thead>\n",
       "    <tr style=\"text-align: right;\">\n",
       "      <th></th>\n",
       "      <th>Dia_do_Ano</th>\n",
       "      <th>Dia</th>\n",
       "      <th>Confirmados</th>\n",
       "      <th>Obitos</th>\n",
       "    </tr>\n",
       "  </thead>\n",
       "  <tbody>\n",
       "    <tr>\n",
       "      <th>0</th>\n",
       "      <td>60</td>\n",
       "      <td>1</td>\n",
       "      <td>0</td>\n",
       "      <td>0</td>\n",
       "    </tr>\n",
       "    <tr>\n",
       "      <th>1</th>\n",
       "      <td>61</td>\n",
       "      <td>2</td>\n",
       "      <td>2</td>\n",
       "      <td>0</td>\n",
       "    </tr>\n",
       "    <tr>\n",
       "      <th>2</th>\n",
       "      <td>62</td>\n",
       "      <td>3</td>\n",
       "      <td>4</td>\n",
       "      <td>0</td>\n",
       "    </tr>\n",
       "    <tr>\n",
       "      <th>3</th>\n",
       "      <td>63</td>\n",
       "      <td>4</td>\n",
       "      <td>6</td>\n",
       "      <td>0</td>\n",
       "    </tr>\n",
       "    <tr>\n",
       "      <th>4</th>\n",
       "      <td>64</td>\n",
       "      <td>5</td>\n",
       "      <td>9</td>\n",
       "      <td>0</td>\n",
       "    </tr>\n",
       "    <tr>\n",
       "      <th>...</th>\n",
       "      <td>...</td>\n",
       "      <td>...</td>\n",
       "      <td>...</td>\n",
       "      <td>...</td>\n",
       "    </tr>\n",
       "    <tr>\n",
       "      <th>57</th>\n",
       "      <td>117</td>\n",
       "      <td>58</td>\n",
       "      <td>24017</td>\n",
       "      <td>928</td>\n",
       "    </tr>\n",
       "    <tr>\n",
       "      <th>58</th>\n",
       "      <td>118</td>\n",
       "      <td>59</td>\n",
       "      <td>24322</td>\n",
       "      <td>948</td>\n",
       "    </tr>\n",
       "    <tr>\n",
       "      <th>59</th>\n",
       "      <td>119</td>\n",
       "      <td>60</td>\n",
       "      <td>24505</td>\n",
       "      <td>973</td>\n",
       "    </tr>\n",
       "    <tr>\n",
       "      <th>60</th>\n",
       "      <td>120</td>\n",
       "      <td>61</td>\n",
       "      <td>25045</td>\n",
       "      <td>989</td>\n",
       "    </tr>\n",
       "    <tr>\n",
       "      <th>61</th>\n",
       "      <td>121</td>\n",
       "      <td>61</td>\n",
       "      <td>25351</td>\n",
       "      <td>1007</td>\n",
       "    </tr>\n",
       "  </tbody>\n",
       "</table>\n",
       "<p>62 rows × 4 columns</p>\n",
       "</div>"
      ],
      "text/plain": [
       "    Dia_do_Ano  Dia  Confirmados  Obitos\n",
       "0           60    1            0       0\n",
       "1           61    2            2       0\n",
       "2           62    3            4       0\n",
       "3           63    4            6       0\n",
       "4           64    5            9       0\n",
       "..         ...  ...          ...     ...\n",
       "57         117   58        24017     928\n",
       "58         118   59        24322     948\n",
       "59         119   60        24505     973\n",
       "60         120   61        25045     989\n",
       "61         121   61        25351    1007\n",
       "\n",
       "[62 rows x 4 columns]"
      ]
     },
     "execution_count": 8,
     "metadata": {},
     "output_type": "execute_result"
    }
   ],
   "source": [
    "# faz a leitura do ficheiro de dados localizado no github\n",
    "\n",
    "url = 'https://raw.githubusercontent.com/Miguel-Salgado/covid-19/master/obitos-e-casos-confirmados-de-cov.csv'\n",
    "df = pd.read_csv(url,error_bad_lines=False)\n",
    "#df = df[(df.T != 0).all()]\n",
    "df.head(80)\n"
   ]
  },
  {
   "cell_type": "code",
   "execution_count": 3,
   "metadata": {},
   "outputs": [],
   "source": [
    "# define as funções utilizadas nos modelos\n",
    "\n",
    "def logistic_model(x,a,b,c):\n",
    "    return c/(np.exp((b-x)/a)+1)\n",
    "\n",
    "def exponential_model(x,a,b,c):\n",
    "    return a*np.exp(b*(x-c))\n",
    "\n",
    "def log_logistic_model(x,a,b,c):\n",
    "    return c/(1+np.power((x/a),-b))\n",
    "\n",
    "def error_function_model(x,a,b,c,d):\n",
    "    return a*(1+erf((x-b)/c))-d\n",
    "\n",
    "\n",
    "\n",
    "\n"
   ]
  },
  {
   "cell_type": "code",
   "execution_count": 4,
   "metadata": {},
   "outputs": [
    {
     "name": "stdout",
     "output_type": "stream",
     "text": [
      "Logistic model: a =  7.22; b =  38.35; c =  25237.70\n",
      "Error function model: a =  12942.07; b =  38.17; c =  18.06; d =  445.34\n"
     ]
    }
   ],
   "source": [
    "x = list(df.iloc[:,1])\n",
    "y = list(df.iloc[:,2])\n",
    "\n",
    "#print(x,y)\n",
    "\n",
    "# utiliza curve_fit para fazer o ajuste dos dados, calculando os parâmetros a,b,c\n",
    "\n",
    "logistic_fit = curve_fit(logistic_model,x,y,p0=[6,37,24000])\n",
    "\n",
    "param_a_logistic = logistic_fit[0][0]\n",
    "param_b_logistic = logistic_fit[0][1]\n",
    "param_c_logistic = logistic_fit[0][2]\n",
    " \n",
    "print(\"Logistic model: a = % 5.2f; b = % 5.2f; c = % 5.2f\" %(param_a_logistic, param_b_logistic, param_c_logistic))    \n",
    "\n",
    "#log_logistic_fit = curve_fit(log_logistic_model,x,y,p0=[1,200,12000],bounds=(0, [9999999., 9999999., 9999999.]))\n",
    "\n",
    "#param_a_log_logistic = log_logistic_fit[0][0]\n",
    "#param_b_log_logistic = log_logistic_fit[0][1]\n",
    "#param_c_log_logistic = log_logistic_fit[0][2]\n",
    "\n",
    "#print(\"Log-Logistic model: a = % 5.2f; b = % 5.2f; c = % 5.2f\" %(param_a_log_logistic, param_b_log_logistic, param_c_log_logistic))\n",
    "\n",
    "erf_fit = curve_fit(error_function_model,x,y,p0=[12500,37,17,355])\n",
    "\n",
    "param_a_erf = erf_fit[0][0]\n",
    "param_b_erf = erf_fit[0][1]\n",
    "param_c_erf = erf_fit[0][2]\n",
    "param_d_erf = erf_fit[0][3]\n",
    "\n",
    "print(\"Error function model: a = % 5.2f; b = % 5.2f; c = % 5.2f; d = % 5.2f\" %(param_a_erf, param_b_erf, param_c_erf, param_d_erf))\n",
    "\n"
   ]
  },
  {
   "cell_type": "code",
   "execution_count": 5,
   "metadata": {},
   "outputs": [],
   "source": [
    "# calcula o erro associado ao ajuste efetuado \n",
    "\n",
    "errors_logistic = [np.sqrt(logistic_fit[1][i][i]) for i in [0,1,2]]\n",
    "\n",
    "y_pred_logistic = [logistic_model(i,param_a_logistic,param_b_logistic,param_c_logistic) for i in x]\n",
    "\n",
    "#errors_log_logistic = [np.sqrt(log_logistic_fit[1][i][i]) for i in [0,1,2]]\n",
    "\n",
    "#y_pred_log_logistic = [log_logistic_model(i,param_a_log_logistic,param_b_log_logistic,param_c_log_logistic) for i in x]\n",
    "\n",
    "errors_erf = [np.sqrt(erf_fit[1][i][i]) for i in [0,1,2,3]]\n",
    "\n",
    "y_pred_erf = [error_function_model(i,param_a_erf,param_b_erf,param_c_erf,param_d_erf) for i in x]\n"
   ]
  },
  {
   "cell_type": "code",
   "execution_count": 6,
   "metadata": {},
   "outputs": [],
   "source": [
    "# calcula a data final da infeção resolvendo a equação associada ao modelo\n",
    "\n",
    "sol_logistic = int(fsolve(lambda x : logistic_model(x,param_a_logistic,param_b_logistic,param_c_logistic) - int(param_c_logistic),param_b_logistic))\n",
    "end_date_logistic = datetime(2020, 1, 1) + timedelta(days=sol_logistic)\n",
    "\n",
    "                              "
   ]
  },
  {
   "cell_type": "code",
   "execution_count": 7,
   "metadata": {},
   "outputs": [
    {
     "data": {
      "image/png": "[encoded data removed]",
      "text/plain": [
       "<Figure size 504x504 with 1 Axes>"
      ]
     },
     "metadata": {
      "needs_background": "light"
     },
     "output_type": "display_data"
    },
    {
     "name": "stdout",
     "output_type": "stream",
     "text": [
      "Erro quadrado médio do ajuste: 334673 (modelo logístico)\n",
      "Erro quadrado médio do ajuste: 165075 (modelo função erro)\n",
      "* * * * * * * * * * * * * * * * \n",
      "Previsão do número total de casos confirmados: 25237 +/- 322 (modelo logístico)\n"
     ]
    }
   ],
   "source": [
    "# constrói o gráfico e mostra os resultados das predições\n",
    "\n",
    "pred_x = list(range(max(x),sol_logistic))\n",
    "\n",
    "plt.rcParams['figure.figsize'] = [7, 7]\n",
    "plt.rc('font', size=14)\n",
    "\n",
    "# Real data\n",
    "plt.scatter(x,y,label=\"Confirmados\",color=\"red\")\n",
    "\n",
    "# Predicted logistic curve\n",
    "plt.plot(x+pred_x, [logistic_model(i,param_a_logistic,param_b_logistic,param_c_logistic) for i in x+pred_x], label=\"Logística\" )\n",
    "\n",
    "# Predicted log-logistic curve\n",
    "#plt.plot(x+pred_x, [log_logistic_model(i,param_a_log_logistic,param_b_log_logistic,param_c_log_logistic) for i in x+pred_x], label=\"Log-Logística\" )\n",
    "\n",
    "# Predicted error function curve\n",
    "plt.plot(x+pred_x, [error_function_model(i,param_a_erf,param_b_erf,param_c_erf,param_d_erf) for i in x+pred_x], label=\"Função erro\" )\n",
    "\n",
    "plt.legend()\n",
    "plt.xlabel(\"Dias desde 1 Março 2020\")\n",
    "plt.ylabel(\"Total de casos confirmados\")\n",
    "plt.ylim((min(y)*0.9,param_c_logistic*1.3))\n",
    "plt.show()\n",
    "\n",
    "\n",
    "print(\"Erro quadrado médio do ajuste: %1d (modelo logístico)\" %mean_squared_error(y,y_pred_logistic))\n",
    "#print(\"Erro quadrado médio do ajuste: %1d (modelo log-logístico)\" %mean_squared_error(y,y_pred_log_logistic))\n",
    "print(\"Erro quadrado médio do ajuste: %1d (modelo função erro)\" %mean_squared_error(y,y_pred_erf))\n",
    "print(\"* * * * * * * * * * * * * * * * \")\n",
    "print(\"Previsão do número total de casos confirmados: %2d +/- %2d (modelo logístico)\" %(param_c_logistic, errors_logistic[2]))\n",
    "#print(\"Previsão do número total de óbitos: %2d +/- %2d (modelo log-logístico)\" %(param_c_log_logistic, errors_log_logistic[2]))\n",
    "#print(\"Previsão do número total de óbitos: %2d +/- %2d (modelo função erro)\" %(param_d_erf, errors_erf[0]))\n",
    "#print(\"* * * * * * * * * * * * * * * * \")\n",
    "#print(\"Previsão do final da infeção: %d/%d/%d (modelo logístico)\" %(end_date_logistic.day, end_date_logistic.month, end_date_logistic.year))"
   ]
  },
  {
   "cell_type": "code",
   "execution_count": null,
   "metadata": {},
   "outputs": [],
   "source": []
  },
  {
   "cell_type": "code",
   "execution_count": null,
   "metadata": {},
   "outputs": [],
   "source": []
  }
 ],
 "metadata": {
  "kernelspec": {
   "display_name": "Python 3",
   "language": "python",
   "name": "python3"
  },
  "language_info": {
   "codemirror_mode": {
    "name": "ipython",
    "version": 3
   },
   "file_extension": ".py",
   "mimetype": "text/x-python",
   "name": "python",
   "nbconvert_exporter": "python",
   "pygments_lexer": "ipython3",
   "version": "3.7.7"
  }
 },
 "nbformat": 4,
 "nbformat_minor": 2
}
