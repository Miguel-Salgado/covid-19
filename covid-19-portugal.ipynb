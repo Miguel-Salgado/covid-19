{
 "cells": [
  {
   "cell_type": "code",
   "execution_count": null,
   "metadata": {},
   "outputs": [],
   "source": [
    "import pandas as pd\n",
    "import numpy as np\n",
    "import datetime\n",
    "from datetime import datetime,timedelta\n",
    "from sklearn.metrics import mean_squared_error\n",
    "from scipy.optimize import curve_fit\n",
    "from scipy.optimize import fsolve\n",
    "import matplotlib.pyplot as plt\n",
    "%matplotlib inline"
   ]
  },
  {
   "cell_type": "code",
   "execution_count": null,
   "metadata": {},
   "outputs": [],
   "source": [
    "# faz a leitura do ficheiro de dados localizado no github\n",
    "\n",
    "url = 'https://raw.githubusercontent.com/Miguel-Salgado/covid-19/master/casos-confirmados-de-cov.csv'\n",
    "df = pd.read_csv(url,error_bad_lines=False)\n",
    "df.head(40)\n"
   ]
  },
  {
   "cell_type": "code",
   "execution_count": null,
   "metadata": {},
   "outputs": [],
   "source": [
    "# define a função usada no modelo\n",
    "\n",
    "def logistic_model(x,a,b,c):\n",
    "    return c/(np.exp((b-x)/a)+1)"
   ]
  },
  {
   "cell_type": "code",
   "execution_count": null,
   "metadata": {},
   "outputs": [],
   "source": [
    "# utiliza curve.fit para fazer o ajuste dos dados, calculando os parâmetros a,b,c\n",
    "\n",
    "x = list(df.iloc[:,0])\n",
    "y = list(df.iloc[:,1])\n",
    "\n",
    "fit = curve_fit(logistic_model,x,y,p0=[3,80,2100])\n",
    "\n",
    "param_a = fit[0][0]\n",
    "param_b = fit[0][1]\n",
    "param_c = fit[0][2]\n",
    "\n",
    "print(\"a = % 5.2f; b = % 5.2f; c = % 5.2f\" %(param_a, param_b, param_c))"
   ]
  },
  {
   "cell_type": "code",
   "execution_count": null,
   "metadata": {},
   "outputs": [],
   "source": [
    "# calcula o erro associado ao ajuste efetuado \n",
    "\n",
    "errors = [np.sqrt(fit[1][i][i]) for i in [0,1,2]]\n",
    "y_pred_logistic = [logistic_model(i,fit[0][0],fit[0][1],fit[0][2]) for i in x]"
   ]
  },
  {
   "cell_type": "code",
   "execution_count": null,
   "metadata": {},
   "outputs": [],
   "source": [
    "# calcula a data final da infeção resolvendo a equação associada ao modelo\n",
    "\n",
    "sol = int(fsolve(lambda x : logistic_model(x,param_a,param_b,param_c) - int(param_c),param_b))\n",
    "end_date = datetime(2020, 1, 1) + timedelta(days=sol)"
   ]
  },
  {
   "cell_type": "code",
   "execution_count": null,
   "metadata": {},
   "outputs": [],
   "source": [
    "# constrói o gráfico e mostra os resultados das predições\n",
    "\n",
    "pred_x = list(range(max(x),sol))\n",
    "plt.rcParams['figure.figsize'] = [7, 7]\n",
    "plt.rc('font', size=14)\n",
    "\n",
    "# Real data\n",
    "plt.scatter(x,y,label=\"Casos confirmados\",color=\"red\")\n",
    "\n",
    "# Predicted logistic curve\n",
    "plt.plot(x+pred_x, [logistic_model(i,fit[0][0],fit[0][1],fit[0][2]) for i in x+pred_x], label=\"Previsão\" )\n",
    "plt.legend()\n",
    "plt.xlabel(\"Dias desde 1 Janeiro 2020\")\n",
    "plt.ylabel(\"Total de infetados\")\n",
    "plt.ylim((min(y)*0.9,param_c*1.1))\n",
    "plt.show()\n",
    "\n",
    "# print previsões\n",
    "print(\"Previsão de casos confirmados para amanhã: %d indivíduos\" %(logistic_model(max(x)+1,fit[0][0],fit[0][1],fit[0][2])))\n",
    "print(\"Previsão do número total de infetados: %2d +/- %2d indivíduos\" %(param_c, errors[2]))\n",
    "print(\"Previsão do final da infeção: %d/%d/%d\" %(end_date.day, end_date.month, end_date.year))\n",
    "print(\"Erro quadrado médio do ajuste: %1d\" %mean_squared_error(y,y_pred_logistic))\n"
   ]
  },
  {
   "cell_type": "code",
   "execution_count": null,
   "metadata": {},
   "outputs": [],
   "source": []
  }
 ],
 "metadata": {
  "kernelspec": {
   "display_name": "Python 3",
   "language": "python",
   "name": "python3"
  },
  "language_info": {
   "codemirror_mode": {
    "name": "ipython",
    "version": 3
   },
   "file_extension": ".py",
   "mimetype": "text/x-python",
   "name": "python",
   "nbconvert_exporter": "python",
   "pygments_lexer": "ipython3",
   "version": "3.7.7"
  }
 },
 "nbformat": 4,
 "nbformat_minor": 2
}
